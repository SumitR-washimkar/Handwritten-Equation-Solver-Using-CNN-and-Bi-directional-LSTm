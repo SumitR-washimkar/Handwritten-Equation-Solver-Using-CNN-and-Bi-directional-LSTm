{
 "cells": [
  {
   "cell_type": "markdown",
   "id": "3db7ae1f-87ff-4729-85f2-b78dfa595156",
   "metadata": {},
   "source": [
    "**Unzip data**"
   ]
  },
  {
   "cell_type": "code",
   "execution_count": 1,
   "id": "9d957d79-2867-4c48-8245-2fb29e53354d",
   "metadata": {},
   "outputs": [],
   "source": [
    "import os\n",
    "import py7zr"
   ]
  },
  {
   "cell_type": "code",
   "execution_count": 2,
   "id": "72c923f8-ba79-448a-be8b-7696f640df50",
   "metadata": {},
   "outputs": [
    {
     "data": {
      "text/plain": [
       "\"\\n\\nzip_path='Handwritten.7z'\\nextract_path='Handwritten_equations'\\n\\nwith py7zr.SevenZipFile(zip_path,'r') as zip_ref:\\n    zip_ref.extractall(extract_path)\\n\\n\""
      ]
     },
     "execution_count": 2,
     "metadata": {},
     "output_type": "execute_result"
    }
   ],
   "source": [
    "'''\n",
    "\n",
    "zip_path='Handwritten.7z'\n",
    "extract_path='Handwritten_equations'\n",
    "\n",
    "with py7zr.SevenZipFile(zip_path,'r') as zip_ref:\n",
    "    zip_ref.extractall(extract_path)\n",
    "\n",
    "''' "
   ]
  },
  {
   "cell_type": "code",
   "execution_count": null,
   "id": "d419719e-af22-4897-8467-7caf9db00816",
   "metadata": {},
   "outputs": [],
   "source": []
  },
  {
   "cell_type": "markdown",
   "id": "4643aa37-bcfd-4f78-b83c-3b5a90e005f3",
   "metadata": {},
   "source": [
    "**Making Charector Dictionary**"
   ]
  },
  {
   "cell_type": "code",
   "execution_count": 3,
   "id": "ef77a8b6-8ac5-4306-981b-285f269040d7",
   "metadata": {},
   "outputs": [],
   "source": [
    "import torch\n",
    "import torch.nn as nn\n",
    "import pandas as pd\n",
    "from PIL import Image\n",
    "from torchvision import transforms,datasets\n",
    "from torch.utils.data import Dataset , DataLoader"
   ]
  },
  {
   "cell_type": "code",
   "execution_count": 4,
   "id": "6beab237-1db7-4d3a-afd3-c60eaf6c182e",
   "metadata": {},
   "outputs": [],
   "source": [
    "image_folder=\"Handwritten_equations/Handwritten/Dataset\"\n",
    "df=pd.read_csv('caption_data.csv')"
   ]
  },
  {
   "cell_type": "code",
   "execution_count": 5,
   "id": "ac4f0dd4-20ed-40ca-9b8b-4c668d872968",
   "metadata": {},
   "outputs": [
    {
     "name": "stdout",
     "output_type": "stream",
     "text": [
      "Character dictionary created\n"
     ]
    }
   ],
   "source": [
    "import json\n",
    "\n",
    "# Extract all characters from the labels\n",
    "all_text = \"\".join(df[\"Column2\"].astype(str))  # Convert all text into a single string\n",
    "\n",
    "# Get unique characters and create dictionary\n",
    "unique_chars = sorted(set(all_text))\n",
    "char_dict = {char: idx for idx, char in enumerate(unique_chars)}\n",
    "\n",
    "# Save dictionary for later use\n",
    "with open(\"char_dict.json\", \"w\", encoding=\"utf-8\") as f:\n",
    "    json.dump(char_dict, f, indent=4, ensure_ascii=False)\n",
    "\n",
    "print(\"Character dictionary created\")\n"
   ]
  },
  {
   "cell_type": "code",
   "execution_count": 7,
   "id": "83ccc20d-64bf-462f-97a7-cd54df582fdc",
   "metadata": {},
   "outputs": [
    {
     "name": "stdout",
     "output_type": "stream",
     "text": [
      "\\cos ( n x ) = 2 \\cos ( x ) \\cos [ ( n - 1 ) x ] - \\cos [ ( n - 2 ) x ]\n"
     ]
    }
   ],
   "source": [
    "df.sample(5)\n",
    "value = df.loc[df['Column1'] == '29_em_167', df.columns[1]].values[0]\n",
    "print(value)"
   ]
  },
  {
   "cell_type": "markdown",
   "id": "f577daab-0f10-4c1f-8ede-2cb2f63ff498",
   "metadata": {},
   "source": [
    "**Encoding labels**"
   ]
  },
  {
   "cell_type": "code",
   "execution_count": 8,
   "id": "fa366bad-8187-46a9-ad68-6b1e6d19939f",
   "metadata": {},
   "outputs": [
    {
     "name": "stdout",
     "output_type": "stream",
     "text": [
      "Example encoded label: [70, 0, 46, 0, 73, 0, 57, 0, 75, 0, 70, 0, 70, 0, 46, 0, 73, 0, 57, 0, 75, 0, 5, 0, 71, 0, 46, 0, 73, 0, 57, 0, 75, 0, 71, 0, 70, 0, 46, 0, 73, 0, 57, 0, 75]\n"
     ]
    }
   ],
   "source": [
    "# Encoding of Latex labels\n",
    "def encode_label(label, char_dict):\n",
    "    return [char_dict[char] for char in label if char in char_dict]\n",
    "\n",
    "df[\"Column2\"] = df[\"Column2\"].apply(lambda x: encode_label(x, char_dict))\n",
    "\n",
    "print(\"Example encoded label:\", df[\"Column2\"].iloc[0])\n"
   ]
  },
  {
   "cell_type": "code",
   "execution_count": 9,
   "id": "0f9a84ed-db4d-4e53-a0fe-d8f1dacaeb2d",
   "metadata": {},
   "outputs": [
    {
     "data": {
      "text/html": [
       "<div>\n",
       "<style scoped>\n",
       "    .dataframe tbody tr th:only-of-type {\n",
       "        vertical-align: middle;\n",
       "    }\n",
       "\n",
       "    .dataframe tbody tr th {\n",
       "        vertical-align: top;\n",
       "    }\n",
       "\n",
       "    .dataframe thead th {\n",
       "        text-align: right;\n",
       "    }\n",
       "</style>\n",
       "<table border=\"1\" class=\"dataframe\">\n",
       "  <thead>\n",
       "    <tr style=\"text-align: right;\">\n",
       "      <th></th>\n",
       "      <th>Column1</th>\n",
       "      <th>Column2</th>\n",
       "    </tr>\n",
       "  </thead>\n",
       "  <tbody>\n",
       "    <tr>\n",
       "      <th>0</th>\n",
       "      <td>18_em_0</td>\n",
       "      <td>[70, 0, 46, 0, 73, 0, 57, 0, 75, 0, 70, 0, 70,...</td>\n",
       "    </tr>\n",
       "    <tr>\n",
       "      <th>1</th>\n",
       "      <td>18_em_10</td>\n",
       "      <td>[12, 0, 16]</td>\n",
       "    </tr>\n",
       "    <tr>\n",
       "      <th>2</th>\n",
       "      <td>18_em_11</td>\n",
       "      <td>[63, 0, 46, 0, 73, 0, 66, 0, 75, 0, 21, 0, 12,...</td>\n",
       "    </tr>\n",
       "    <tr>\n",
       "      <th>3</th>\n",
       "      <td>18_em_12</td>\n",
       "      <td>[43, 52, 64, 47, 49, 0, 73, 0, 62, 0, 51, 0, 4...</td>\n",
       "    </tr>\n",
       "    <tr>\n",
       "      <th>4</th>\n",
       "      <td>18_em_13</td>\n",
       "      <td>[14, 0, 45, 0, 73, 0, 12, 0, 75, 0, 5, 0, 14, ...</td>\n",
       "    </tr>\n",
       "  </tbody>\n",
       "</table>\n",
       "</div>"
      ],
      "text/plain": [
       "    Column1                                            Column2\n",
       "0   18_em_0  [70, 0, 46, 0, 73, 0, 57, 0, 75, 0, 70, 0, 70,...\n",
       "1  18_em_10                                        [12, 0, 16]\n",
       "2  18_em_11  [63, 0, 46, 0, 73, 0, 66, 0, 75, 0, 21, 0, 12,...\n",
       "3  18_em_12  [43, 52, 64, 47, 49, 0, 73, 0, 62, 0, 51, 0, 4...\n",
       "4  18_em_13  [14, 0, 45, 0, 73, 0, 12, 0, 75, 0, 5, 0, 14, ..."
      ]
     },
     "execution_count": 9,
     "metadata": {},
     "output_type": "execute_result"
    }
   ],
   "source": [
    "df.head()"
   ]
  },
  {
   "cell_type": "markdown",
   "id": "5d387cb6-2fee-41a1-a633-5560a7d1750d",
   "metadata": {},
   "source": [
    "**Matching the name of image**"
   ]
  },
  {
   "cell_type": "code",
   "execution_count": 10,
   "id": "3565a4e8-0abf-4b54-a9ec-2639b004db73",
   "metadata": {},
   "outputs": [
    {
     "data": {
      "text/html": [
       "<div>\n",
       "<style scoped>\n",
       "    .dataframe tbody tr th:only-of-type {\n",
       "        vertical-align: middle;\n",
       "    }\n",
       "\n",
       "    .dataframe tbody tr th {\n",
       "        vertical-align: top;\n",
       "    }\n",
       "\n",
       "    .dataframe thead th {\n",
       "        text-align: right;\n",
       "    }\n",
       "</style>\n",
       "<table border=\"1\" class=\"dataframe\">\n",
       "  <thead>\n",
       "    <tr style=\"text-align: right;\">\n",
       "      <th></th>\n",
       "      <th>Column1</th>\n",
       "      <th>Column2</th>\n",
       "    </tr>\n",
       "  </thead>\n",
       "  <tbody>\n",
       "    <tr>\n",
       "      <th>0</th>\n",
       "      <td>18_em_0.bmp</td>\n",
       "      <td>[70, 0, 46, 0, 73, 0, 57, 0, 75, 0, 70, 0, 70,...</td>\n",
       "    </tr>\n",
       "    <tr>\n",
       "      <th>1</th>\n",
       "      <td>18_em_10.bmp</td>\n",
       "      <td>[12, 0, 16]</td>\n",
       "    </tr>\n",
       "    <tr>\n",
       "      <th>2</th>\n",
       "      <td>18_em_11.bmp</td>\n",
       "      <td>[63, 0, 46, 0, 73, 0, 66, 0, 75, 0, 21, 0, 12,...</td>\n",
       "    </tr>\n",
       "    <tr>\n",
       "      <th>3</th>\n",
       "      <td>18_em_12.bmp</td>\n",
       "      <td>[43, 52, 64, 47, 49, 0, 73, 0, 62, 0, 51, 0, 4...</td>\n",
       "    </tr>\n",
       "    <tr>\n",
       "      <th>4</th>\n",
       "      <td>18_em_13.bmp</td>\n",
       "      <td>[14, 0, 45, 0, 73, 0, 12, 0, 75, 0, 5, 0, 14, ...</td>\n",
       "    </tr>\n",
       "  </tbody>\n",
       "</table>\n",
       "</div>"
      ],
      "text/plain": [
       "        Column1                                            Column2\n",
       "0   18_em_0.bmp  [70, 0, 46, 0, 73, 0, 57, 0, 75, 0, 70, 0, 70,...\n",
       "1  18_em_10.bmp                                        [12, 0, 16]\n",
       "2  18_em_11.bmp  [63, 0, 46, 0, 73, 0, 66, 0, 75, 0, 21, 0, 12,...\n",
       "3  18_em_12.bmp  [43, 52, 64, 47, 49, 0, 73, 0, 62, 0, 51, 0, 4...\n",
       "4  18_em_13.bmp  [14, 0, 45, 0, 73, 0, 12, 0, 75, 0, 5, 0, 14, ..."
      ]
     },
     "execution_count": 10,
     "metadata": {},
     "output_type": "execute_result"
    }
   ],
   "source": [
    "# Modyfing the name of images\n",
    "df[\"Column1\"] = df[\"Column1\"].astype(str) + \".bmp\"\n",
    "df.head()"
   ]
  },
  {
   "cell_type": "markdown",
   "id": "e8787618-260b-4b17-a962-19ecae3e7eda",
   "metadata": {},
   "source": [
    "**Dataset class**"
   ]
  },
  {
   "cell_type": "code",
   "execution_count": 11,
   "id": "1cde2afa-d51d-4121-afdf-7ffcd768d668",
   "metadata": {},
   "outputs": [],
   "source": [
    "class Dataset(Dataset):\n",
    "    def __init__(self, df, img_dir, transform=None):\n",
    "        self.df = df\n",
    "        self.img_dir = img_dir\n",
    "        self.transform = transform\n",
    "\n",
    "        print(\"Initial DataFrame size:\", len(self.df))\n",
    "\n",
    "        # Filter out rows where the image does not exist\n",
    "        self.df = self.df[self.df.iloc[:, 0].apply(lambda x: os.path.exists(os.path.join(img_dir, x)))].reset_index(drop=True)\n",
    "\n",
    "        print(\"Final DataFrame size:\", len(self.df))\n",
    "\n",
    "    def __len__(self):\n",
    "        return len(self.df)\n",
    "\n",
    "    def __getitem__(self, index):\n",
    "        img_name = self.df.iloc[index, 0]\n",
    "        img_path = os.path.join(self.img_dir, img_name)\n",
    "\n",
    "        \n",
    "        image = Image.open(img_path)\n",
    "\n",
    "        label = self.df.iloc[index, -1]\n",
    "        label = torch.tensor(label, dtype=torch.long)\n",
    "\n",
    "        if self.transform:\n",
    "            image = self.transform(image)\n",
    "\n",
    "        return image, label\n",
    "        "
   ]
  },
  {
   "cell_type": "markdown",
   "id": "d443eb7a-5b30-4d6c-8201-9fc0acdf83ed",
   "metadata": {},
   "source": [
    "**Dataset**"
   ]
  },
  {
   "cell_type": "code",
   "execution_count": 12,
   "id": "f7ab79d3-9174-401e-9994-dba61a96cfac",
   "metadata": {},
   "outputs": [
    {
     "name": "stdout",
     "output_type": "stream",
     "text": [
      "Initial DataFrame size: 12167\n",
      "Final DataFrame size: 12167\n"
     ]
    }
   ],
   "source": [
    "# This transforms this image to tensor\n",
    "\n",
    "mean=[0.4363]\n",
    "std=[0.2129]\n",
    "transform=transforms.Compose([\n",
    "    transforms.Grayscale(num_output_channels=1),\n",
    "    transforms.Resize((128,128)),\n",
    "    transforms.RandomHorizontalFlip(p=0.4),\n",
    "    transforms.RandomRotation(30),\n",
    "    transforms.ToTensor(),\n",
    "    transforms.Normalize((0.5,),(0.5,))\n",
    "])\n",
    "\n",
    "# Create dataset\n",
    "dataset=Dataset(df=df,img_dir=image_folder,transform=transform)"
   ]
  },
  {
   "cell_type": "markdown",
   "id": "3ad32788-6972-4438-8707-80a7f9d442e1",
   "metadata": {},
   "source": [
    "**Managing the variable lenght**"
   ]
  },
  {
   "cell_type": "code",
   "execution_count": 13,
   "id": "0c4465dc-5b19-4051-810b-5f20e04a2620",
   "metadata": {},
   "outputs": [],
   "source": [
    "# Manage the variable lenght of label\n",
    "\n",
    "def custom_collate_fn(batch):\n",
    "    images, labels = zip(*batch)  # Unzip images and labels\n",
    "\n",
    "    # Stack images into a batch tensor\n",
    "    images = torch.stack(images, dim=0)\n",
    "\n",
    "    # Convert each label tensor to a list (to allow list operations)\n",
    "    labels = [label.tolist() if isinstance(label, torch.Tensor) else label for label in labels]\n",
    "\n",
    "    # Find max length of label in the batch\n",
    "    max_len = max(len(label) for label in labels)\n",
    "\n",
    "    # Pad labels with 0 (or another padding token if needed)\n",
    "    padded_labels = [label + [0] * (max_len - len(label)) for label in labels]\n",
    "\n",
    "    # Convert labels to tensor\n",
    "    labels_tensor = torch.tensor(padded_labels, dtype=torch.long)\n",
    "\n",
    "    return images, labels_tensor  # Labels are now a padded tensor\n"
   ]
  },
  {
   "cell_type": "markdown",
   "id": "c2165c92-9636-4d51-9791-e973b1a4c67e",
   "metadata": {},
   "source": [
    "**Use of DataLoader**"
   ]
  },
  {
   "cell_type": "code",
   "execution_count": 14,
   "id": "b18c66bb-25a3-4743-9e24-9525a953b157",
   "metadata": {},
   "outputs": [],
   "source": [
    "from torch.utils.data import random_split\n",
    "train_ratio=0.8\n",
    "train_size=int(train_ratio*len(dataset))\n",
    "test_size=len(dataset)-train_size\n",
    "\n",
    "train_data,test_data=random_split(dataset,[train_size,test_size])"
   ]
  },
  {
   "cell_type": "code",
   "execution_count": 15,
   "id": "cac173b7-ee28-4c80-a09a-72c5c9480f0b",
   "metadata": {},
   "outputs": [],
   "source": [
    "batch_size=8\n",
    "train_loader = DataLoader(dataset, batch_size=batch_size, shuffle=True,pin_memory=True,collate_fn=custom_collate_fn)\n",
    "test_loader = DataLoader(dataset, batch_size=batch_size, shuffle=False,pin_memory=True,collate_fn=custom_collate_fn)"
   ]
  },
  {
   "cell_type": "markdown",
   "id": "ada78d2e-484c-45dd-915a-25b15410fe15",
   "metadata": {},
   "source": [
    "**Visulisation of one tensor from test**"
   ]
  },
  {
   "cell_type": "code",
   "execution_count": 16,
   "id": "24c2d965-7ccb-44b1-a034-da73d824cc3c",
   "metadata": {},
   "outputs": [
    {
     "data": {
      "image/png": "[encoded data removed]",
      "text/plain": [
       "<Figure size 640x480 with 1 Axes>"
      ]
     },
     "metadata": {},
     "output_type": "display_data"
    },
    {
     "name": "stdout",
     "output_type": "stream",
     "text": [
      "Label (LaTeX format): tensor([70,  0, 46,  0, 73,  0, 57,  0, 75,  0, 70,  0, 70,  0, 46,  0, 73,  0,\n",
      "        57,  0, 75,  0,  5,  0, 71,  0, 46,  0, 73,  0, 57,  0, 75,  0, 71,  0,\n",
      "        70,  0, 46,  0, 73,  0, 57,  0, 75,  0,  0,  0,  0,  0,  0,  0,  0,  0,\n",
      "         0,  0,  0,  0,  0,  0,  0])\n",
      "Images Tensor Shape: (128, 128, 1)\n",
      "Labels Tensor Shape: torch.Size([61])\n"
     ]
    }
   ],
   "source": [
    "import matplotlib.pyplot as plt\n",
    "import torchvision.transforms as transforms\n",
    "import torch\n",
    "\n",
    "# Get one batch from the DataLoader\n",
    "data_iter = iter(test_loader)\n",
    "images, labels = next(data_iter)  # Get first batch\n",
    "\n",
    "# Select the first image from the batch\n",
    "image = images[0]  # First image tensor\n",
    "\n",
    "# Convert tensor to numpy for visualization\n",
    "image = image.permute(1, 2, 0).cpu().numpy()  # Convert (C, H, W) to (H, W, C)\n",
    "\n",
    "# Display the image\n",
    "plt.imshow(image, cmap=\"gray\")  # Use 'gray' if it's a grayscale image\n",
    "plt.axis(\"off\")\n",
    "plt.show()\n",
    "\n",
    "# Print the corresponding label\n",
    "print(\"Label (LaTeX format):\", labels[0])\n",
    "print(f\"Images Tensor Shape: {image.shape}\")  # Should be (batch_size, 3,resize,resize)\n",
    "print(f\"Labels Tensor Shape: {labels[0].shape}\")  # Should be (batch_size,)"
   ]
  },
  {
   "cell_type": "markdown",
   "id": "9f690fa8-a48a-4a86-827f-d417f8e79b66",
   "metadata": {},
   "source": [
    "<font size='5'>**Done making train and test data set now make model and train**</font>"
   ]
  },
  {
   "cell_type": "code",
   "execution_count": null,
   "id": "a9bc6b3d-960a-44f1-b90f-115640888171",
   "metadata": {},
   "outputs": [],
   "source": [
    "class CRNN(nn.Module):\n",
    "    def __init__(self, num_classes, input_channels=1):\n",
    "        super(CRNN, self).__init__()\n",
    "\n",
    "        # CNN Feature Extractor\n",
    "        self.cnn = nn.Sequential(\n",
    "            nn.Conv2d(input_channels, 64, kernel_size=3, stride=1, padding=1),\n",
    "            nn.ReLU(),\n",
    "            nn.MaxPool2d(2, 1),\n",
    "\n",
    "            nn.Conv2d(64, 128, kernel_size=3, stride=1, padding=1),\n",
    "            nn.ReLU(),\n",
    "            nn.MaxPool2d(2, 1),\n",
    "\n",
    "            nn.Conv2d(128, 256, kernel_size=3, stride=1, padding=1),\n",
    "            nn.ReLU(),\n",
    "\n",
    "            nn.Conv2d(256, 256, kernel_size=3, stride=1, padding=1),\n",
    "            nn.ReLU(),\n",
    "            nn.MaxPool2d((2, 1)),  # Only height pooling\n",
    "\n",
    "            nn.Conv2d(256, 512, kernel_size=3, stride=1, padding=1),\n",
    "            nn.ReLU(),\n",
    "\n",
    "            nn.Conv2d(512, 512, kernel_size=3, stride=1, padding=1),\n",
    "            nn.ReLU(),\n",
    "            nn.MaxPool2d((2, 1)),  # Only height pooling\n",
    "\n",
    "            nn.Conv2d(512, 512, kernel_size=2, stride=1, padding=0),\n",
    "            nn.ReLU()\n",
    "        )\n",
    "\n",
    "        # Recurrent Layers (LSTM)\n",
    "        self.rnn = nn.LSTM(15360, 256, bidirectional=True, batch_first=True, num_layers=2)\n",
    "\n",
    "        # Fully Connected Layer for Character Prediction\n",
    "        self.fc = nn.Linear(256 * 2, num_classes)  # 2x for bidirectional\n",
    "\n",
    "    def forward(self, x):\n",
    "        # print(\"Input shape:\", x.shape)  # (B, C, H, W)\n",
    "\n",
    "        x = self.cnn(x)\n",
    "        # print(\"After CNN:\", x.shape)  # (B, C, H, W) → (16, 512, 7, 31)\n",
    "\n",
    "        # Reshape to (B, W, C*H)\n",
    "        x = x.permute(0, 3, 1, 2)  # (B, C, H, W) → (B, W, C, H)\n",
    "        x = x.flatten(2)  # (B, W, C*H)\n",
    "    \n",
    "        # print(\"After Flatten:\", x.shape)  # (16, 31, 512*7)\n",
    "\n",
    "        # Pass through LSTM\n",
    "        x, _ = self.rnn(x)\n",
    "        # print(\"After LSTM:\", x.shape)  # (B, W, 512)\n",
    "\n",
    "        # Fully connected layer\n",
    "        x = self.fc(x)\n",
    "        # print(\"After FC:\", x.shape)  # (B, W, num_classes)\n",
    "\n",
    "        return x\n",
    "\n"
   ]
  },
  {
   "cell_type": "code",
   "execution_count": null,
   "id": "f6fba74b-3602-4f47-b5d1-5e498bce6971",
   "metadata": {},
   "outputs": [],
   "source": [
    "import torch\n",
    "import time\n",
    "import torch.nn.functional as F\n",
    "import torch.optim as op\n",
    "\n",
    "ctc_loss = torch.nn.CTCLoss(blank=0)  \n",
    "\n",
    "def train(model, dataloader, optimizer, epochs=10, device=\"cuda\"):\n",
    "    model.train()\n",
    "    model.to(device)\n",
    "    loss_values=[]\n",
    "    for epoch in range(epochs):\n",
    "        total_loss = 0\n",
    "        start=time.time()\n",
    "\n",
    "        for images, labels in dataloader:\n",
    "            images = images.to(device)\n",
    "            labels = labels.to(device)  \n",
    "\n",
    "            # Compute label lengths\n",
    "            label_lengths = torch.tensor([torch.count_nonzero(label).item() for label in labels], dtype=torch.long, device=device)\n",
    "            targets = labels[labels != 0]  \n",
    "\n",
    "            # Forward pass\n",
    "            optimizer.zero_grad()\n",
    "            outputs = model(images)  \n",
    "            log_probs = F.log_softmax(outputs, dim=2)\n",
    "\n",
    "            # Compute input lengths\n",
    "            batch_size, seq_len, _ = log_probs.shape\n",
    "            input_lengths = torch.full((batch_size,), seq_len, dtype=torch.long, device=device)\n",
    "\n",
    "            # Ensure input_lengths > target_lengths\n",
    "            if (input_lengths < label_lengths).any():\n",
    "                print(\"Error: input_lengths are smaller than label_lengths!\")\n",
    "                break\n",
    "\n",
    "            # Compute CTC Loss\n",
    "            loss = ctc_loss(log_probs.permute(1, 0, 2), targets, input_lengths, label_lengths)\n",
    "\n",
    "            # Backpropagation with gradient clipping\n",
    "            loss.backward()\n",
    "            torch.nn.utils.clip_grad_norm_(model.parameters(), max_norm=5)\n",
    "            optimizer.step()\n",
    "\n",
    "            total_loss += loss.item()\n",
    "            avg_loss=total_loss/len(train_loader)\n",
    "            end=time.time()\n",
    "\n",
    "        print(f\"Epoch [{epoch+1}/{epochs}], Loss: {avg_loss:.4f} and Time: {end-start}\")\n",
    "        loss_values.append(avg_loss)\n"
   ]
  },
  {
   "cell_type": "code",
   "execution_count": null,
   "id": "549572bc-e24a-4d45-b7a8-58179484d733",
   "metadata": {},
   "outputs": [],
   "source": [
    "device=torch.device('cuda')\n",
    "model = CRNN(75).to(device)\n",
    "\n",
    "# Define optimizer\n",
    "optimizer = op.SGD(model.parameters(), lr=0.01)\n",
    "\n",
    "# Train Model\n",
    "train(model, train_loader, optimizer, epochs=10, device=device)"
   ]
  },
  {
   "cell_type": "code",
   "execution_count": null,
   "id": "e1456bf5-0309-4a37-a7f0-2f3104f06275",
   "metadata": {},
   "outputs": [],
   "source": [
    "model.eval()"
   ]
  },
  {
   "cell_type": "code",
   "execution_count": null,
   "id": "ab6f17eb-6cc4-41e3-a665-eaab0286abfa",
   "metadata": {},
   "outputs": [],
   "source": [
    "import matplotlib.pyplot as plt\n",
    "plt.figure(figsize=(10, 5))\n",
    "plt.plot(range(1, epochs + 1), loss_values,  linestyle='-', color='b', label=\"Training Loss\")\n",
    "plt.xlabel(\"Epochs\")\n",
    "plt.ylabel(\"Loss\")\n",
    "plt.title(\"Loss vs. Epoch\")\n",
    "plt.legend()\n",
    "plt.grid()\n",
    "plt.show()"
   ]
  }
 ],
 "metadata": {
  "kernelspec": {
   "display_name": "Python 3 (ipykernel)",
   "language": "python",
   "name": "python3"
  },
  "language_info": {
   "codemirror_mode": {
    "name": "ipython",
    "version": 3
   },
   "file_extension": ".py",
   "mimetype": "text/x-python",
   "name": "python",
   "nbconvert_exporter": "python",
   "pygments_lexer": "ipython3",
   "version": "3.12.4"
  }
 },
 "nbformat": 4,
 "nbformat_minor": 5
}
